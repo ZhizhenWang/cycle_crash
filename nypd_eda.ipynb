{
 "cells": [
  {
   "cell_type": "markdown",
   "metadata": {},
   "source": [
    "# Overview of data"
   ]
  },
  {
   "cell_type": "markdown",
   "metadata": {},
   "source": [
    "Import the needed package first"
   ]
  },
  {
   "cell_type": "code",
   "execution_count": 1,
   "metadata": {},
   "outputs": [],
   "source": [
    "import numpy as np\n",
    "import pandas as pd\n",
    "pd.set_option('max_columns', 105)\n",
    "import matplotlib.pyplot as plt\n",
    "import seaborn as sns\n",
    "from scipy import stats\n",
    "\n",
    "import folium\n",
    "\n",
    "%matplotlib inline\n",
    "sns.set()"
   ]
  },
  {
   "cell_type": "code",
   "execution_count": 2,
   "metadata": {},
   "outputs": [],
   "source": [
    "def get_cycle_collision_data() -> pd.DataFrame:\n",
    "    raw_data = pd.read_csv('cycle_crash/Motor_Vehicle_Collisions_-_Crashes.csv', low_memory=False)\n",
    "    raw_data = raw_data.apply(lambda x: x.str.strip() if x.dtype == \"object\" else x)  # strip whitespace value\n",
    "    \n",
    "    raw_data = raw_data[raw_data.BOROUGH.notnull()]  # remove empty borough rows\n",
    "    \n",
    "    # convert to numeric type\n",
    "    raw_data['NUMBER OF PERSONS INJURED'] = pd.to_numeric(raw_data['NUMBER OF PERSONS INJURED'],errors='coerce')\n",
    "    raw_data['NUMBER OF PERSONS KILLED'] = pd.to_numeric(raw_data['NUMBER OF PERSONS KILLED'],errors='coerce')\n",
    "    raw_data['LATITUDE'] = pd.to_numeric(raw_data['LATITUDE'],errors='coerce')\n",
    "    raw_data['LONGITUDE'] = pd.to_numeric(raw_data['LONGITUDE'],errors='coerce')\n",
    "    \n",
    "    raw_data.replace(np.nan, '', inplace=True)\n",
    "\n",
    "    return raw_data"
   ]
  },
  {
   "cell_type": "code",
   "execution_count": 3,
   "metadata": {},
   "outputs": [],
   "source": [
    "df = get_cycle_collision_data()"
   ]
  },
  {
   "cell_type": "code",
   "execution_count": 4,
   "metadata": {},
   "outputs": [
    {
     "name": "stdout",
     "output_type": "stream",
     "text": [
      "<class 'pandas.core.frame.DataFrame'>\n",
      "Int64Index: 1117715 entries, 0 to 1604017\n",
      "Data columns (total 29 columns):\n",
      "ACCIDENT DATE                    1117715 non-null object\n",
      "ACCIDENT TIME                    1117715 non-null object\n",
      "BOROUGH                          1117715 non-null object\n",
      "ZIP CODE                         1117715 non-null object\n",
      "LATITUDE                         1117715 non-null object\n",
      "LONGITUDE                        1117715 non-null object\n",
      "LOCATION                         1117715 non-null object\n",
      "ON STREET NAME                   1117715 non-null object\n",
      "CROSS STREET NAME                1117715 non-null object\n",
      "OFF STREET NAME                  1117715 non-null object\n",
      "NUMBER OF PERSONS INJURED        1117715 non-null object\n",
      "NUMBER OF PERSONS KILLED         1117715 non-null object\n",
      "NUMBER OF PEDESTRIANS INJURED    1117715 non-null int64\n",
      "NUMBER OF PEDESTRIANS KILLED     1117715 non-null int64\n",
      "NUMBER OF CYCLIST INJURED        1117715 non-null int64\n",
      "NUMBER OF CYCLIST KILLED         1117715 non-null int64\n",
      "NUMBER OF MOTORIST INJURED       1117715 non-null int64\n",
      "NUMBER OF MOTORIST KILLED        1117715 non-null int64\n",
      "CONTRIBUTING FACTOR VEHICLE 1    1117715 non-null object\n",
      "CONTRIBUTING FACTOR VEHICLE 2    1117715 non-null object\n",
      "CONTRIBUTING FACTOR VEHICLE 3    1117715 non-null object\n",
      "CONTRIBUTING FACTOR VEHICLE 4    1117715 non-null object\n",
      "CONTRIBUTING FACTOR VEHICLE 5    1117715 non-null object\n",
      "COLLISION_ID                     1117715 non-null int64\n",
      "VEHICLE TYPE CODE 1              1117715 non-null object\n",
      "VEHICLE TYPE CODE 2              1117715 non-null object\n",
      "VEHICLE TYPE CODE 3              1117715 non-null object\n",
      "VEHICLE TYPE CODE 4              1117715 non-null object\n",
      "VEHICLE TYPE CODE 5              1117715 non-null object\n",
      "dtypes: int64(7), object(22)\n",
      "memory usage: 255.8+ MB\n"
     ]
    },
    {
     "data": {
      "text/html": [
       "<div>\n",
       "<style scoped>\n",
       "    .dataframe tbody tr th:only-of-type {\n",
       "        vertical-align: middle;\n",
       "    }\n",
       "\n",
       "    .dataframe tbody tr th {\n",
       "        vertical-align: top;\n",
       "    }\n",
       "\n",
       "    .dataframe thead th {\n",
       "        text-align: right;\n",
       "    }\n",
       "</style>\n",
       "<table border=\"1\" class=\"dataframe\">\n",
       "  <thead>\n",
       "    <tr style=\"text-align: right;\">\n",
       "      <th></th>\n",
       "      <th>ACCIDENT DATE</th>\n",
       "      <th>ACCIDENT TIME</th>\n",
       "      <th>BOROUGH</th>\n",
       "      <th>ZIP CODE</th>\n",
       "      <th>LATITUDE</th>\n",
       "      <th>LONGITUDE</th>\n",
       "      <th>LOCATION</th>\n",
       "      <th>ON STREET NAME</th>\n",
       "      <th>CROSS STREET NAME</th>\n",
       "      <th>OFF STREET NAME</th>\n",
       "      <th>NUMBER OF PERSONS INJURED</th>\n",
       "      <th>NUMBER OF PERSONS KILLED</th>\n",
       "      <th>NUMBER OF PEDESTRIANS INJURED</th>\n",
       "      <th>NUMBER OF PEDESTRIANS KILLED</th>\n",
       "      <th>NUMBER OF CYCLIST INJURED</th>\n",
       "      <th>NUMBER OF CYCLIST KILLED</th>\n",
       "      <th>NUMBER OF MOTORIST INJURED</th>\n",
       "      <th>NUMBER OF MOTORIST KILLED</th>\n",
       "      <th>CONTRIBUTING FACTOR VEHICLE 1</th>\n",
       "      <th>CONTRIBUTING FACTOR VEHICLE 2</th>\n",
       "      <th>CONTRIBUTING FACTOR VEHICLE 3</th>\n",
       "      <th>CONTRIBUTING FACTOR VEHICLE 4</th>\n",
       "      <th>CONTRIBUTING FACTOR VEHICLE 5</th>\n",
       "      <th>COLLISION_ID</th>\n",
       "      <th>VEHICLE TYPE CODE 1</th>\n",
       "      <th>VEHICLE TYPE CODE 2</th>\n",
       "      <th>VEHICLE TYPE CODE 3</th>\n",
       "      <th>VEHICLE TYPE CODE 4</th>\n",
       "      <th>VEHICLE TYPE CODE 5</th>\n",
       "    </tr>\n",
       "  </thead>\n",
       "  <tbody>\n",
       "    <tr>\n",
       "      <th>0</th>\n",
       "      <td>04/05/2019</td>\n",
       "      <td>17:40</td>\n",
       "      <td>MANHATTAN</td>\n",
       "      <td>10012</td>\n",
       "      <td>40.7264</td>\n",
       "      <td>-74.0013</td>\n",
       "      <td>POINT (-74.00134 40.726418)</td>\n",
       "      <td></td>\n",
       "      <td></td>\n",
       "      <td>128       THOMPSON STREET</td>\n",
       "      <td>0</td>\n",
       "      <td>0</td>\n",
       "      <td>0</td>\n",
       "      <td>0</td>\n",
       "      <td>0</td>\n",
       "      <td>0</td>\n",
       "      <td>0</td>\n",
       "      <td>0</td>\n",
       "      <td>Failure to Yield Right-of-Way</td>\n",
       "      <td>Unspecified</td>\n",
       "      <td></td>\n",
       "      <td></td>\n",
       "      <td></td>\n",
       "      <td>4109787</td>\n",
       "      <td>Sedan</td>\n",
       "      <td>Sedan</td>\n",
       "      <td></td>\n",
       "      <td></td>\n",
       "      <td></td>\n",
       "    </tr>\n",
       "    <tr>\n",
       "      <th>1</th>\n",
       "      <td>04/27/2019</td>\n",
       "      <td>5:20</td>\n",
       "      <td>BROOKLYN</td>\n",
       "      <td>11235</td>\n",
       "      <td>40.5922</td>\n",
       "      <td>-73.9326</td>\n",
       "      <td>POINT (-73.932556 40.592213)</td>\n",
       "      <td></td>\n",
       "      <td></td>\n",
       "      <td>2501      KNAPP STREET</td>\n",
       "      <td>0</td>\n",
       "      <td>0</td>\n",
       "      <td>0</td>\n",
       "      <td>0</td>\n",
       "      <td>0</td>\n",
       "      <td>0</td>\n",
       "      <td>0</td>\n",
       "      <td>0</td>\n",
       "      <td>Drugs (illegal)</td>\n",
       "      <td>Unspecified</td>\n",
       "      <td></td>\n",
       "      <td></td>\n",
       "      <td></td>\n",
       "      <td>4122270</td>\n",
       "      <td>Sedan</td>\n",
       "      <td>Sedan</td>\n",
       "      <td></td>\n",
       "      <td></td>\n",
       "      <td></td>\n",
       "    </tr>\n",
       "    <tr>\n",
       "      <th>4</th>\n",
       "      <td>05/01/2019</td>\n",
       "      <td>7:50</td>\n",
       "      <td>MANHATTAN</td>\n",
       "      <td>10002</td>\n",
       "      <td>40.7132</td>\n",
       "      <td>-73.9808</td>\n",
       "      <td>POINT (-73.98082 40.713226)</td>\n",
       "      <td></td>\n",
       "      <td></td>\n",
       "      <td>18        JACKSON STREET</td>\n",
       "      <td>0</td>\n",
       "      <td>0</td>\n",
       "      <td>0</td>\n",
       "      <td>0</td>\n",
       "      <td>0</td>\n",
       "      <td>0</td>\n",
       "      <td>0</td>\n",
       "      <td>0</td>\n",
       "      <td>Other Vehicular</td>\n",
       "      <td>Unspecified</td>\n",
       "      <td></td>\n",
       "      <td></td>\n",
       "      <td></td>\n",
       "      <td>4123894</td>\n",
       "      <td>Sedan</td>\n",
       "      <td>Sedan</td>\n",
       "      <td></td>\n",
       "      <td></td>\n",
       "      <td></td>\n",
       "    </tr>\n",
       "    <tr>\n",
       "      <th>5</th>\n",
       "      <td>04/11/2019</td>\n",
       "      <td>20:00</td>\n",
       "      <td>QUEENS</td>\n",
       "      <td>11427</td>\n",
       "      <td>40.7325</td>\n",
       "      <td>-73.7656</td>\n",
       "      <td>POINT (-73.765564 40.732536)</td>\n",
       "      <td>UNION TURNPIKE</td>\n",
       "      <td>CLEARVIEW EXPRESSWAY</td>\n",
       "      <td></td>\n",
       "      <td>0</td>\n",
       "      <td>0</td>\n",
       "      <td>0</td>\n",
       "      <td>0</td>\n",
       "      <td>0</td>\n",
       "      <td>0</td>\n",
       "      <td>0</td>\n",
       "      <td>0</td>\n",
       "      <td>Driver Inattention/Distraction</td>\n",
       "      <td>Unspecified</td>\n",
       "      <td></td>\n",
       "      <td></td>\n",
       "      <td></td>\n",
       "      <td>4113041</td>\n",
       "      <td>Sedan</td>\n",
       "      <td>Station Wagon/Sport Utility Vehicle</td>\n",
       "      <td></td>\n",
       "      <td></td>\n",
       "      <td></td>\n",
       "    </tr>\n",
       "    <tr>\n",
       "      <th>6</th>\n",
       "      <td>04/02/2019</td>\n",
       "      <td>11:00</td>\n",
       "      <td>BROOKLYN</td>\n",
       "      <td>11221</td>\n",
       "      <td>40.6864</td>\n",
       "      <td>-73.9425</td>\n",
       "      <td>POINT (-73.94247 40.68639)</td>\n",
       "      <td></td>\n",
       "      <td></td>\n",
       "      <td>404       MONROE STREET</td>\n",
       "      <td>0</td>\n",
       "      <td>0</td>\n",
       "      <td>0</td>\n",
       "      <td>0</td>\n",
       "      <td>0</td>\n",
       "      <td>0</td>\n",
       "      <td>0</td>\n",
       "      <td>0</td>\n",
       "      <td>Other Vehicular</td>\n",
       "      <td>Unspecified</td>\n",
       "      <td></td>\n",
       "      <td></td>\n",
       "      <td></td>\n",
       "      <td>4107489</td>\n",
       "      <td>Sedan</td>\n",
       "      <td></td>\n",
       "      <td></td>\n",
       "      <td></td>\n",
       "      <td></td>\n",
       "    </tr>\n",
       "  </tbody>\n",
       "</table>\n",
       "</div>"
      ],
      "text/plain": [
       "  ACCIDENT DATE ACCIDENT TIME    BOROUGH ZIP CODE LATITUDE LONGITUDE  \\\n",
       "0    04/05/2019         17:40  MANHATTAN    10012  40.7264  -74.0013   \n",
       "1    04/27/2019          5:20   BROOKLYN    11235  40.5922  -73.9326   \n",
       "4    05/01/2019          7:50  MANHATTAN    10002  40.7132  -73.9808   \n",
       "5    04/11/2019         20:00     QUEENS    11427  40.7325  -73.7656   \n",
       "6    04/02/2019         11:00   BROOKLYN    11221  40.6864  -73.9425   \n",
       "\n",
       "                       LOCATION  ON STREET NAME     CROSS STREET NAME  \\\n",
       "0   POINT (-74.00134 40.726418)                                         \n",
       "1  POINT (-73.932556 40.592213)                                         \n",
       "4   POINT (-73.98082 40.713226)                                         \n",
       "5  POINT (-73.765564 40.732536)  UNION TURNPIKE  CLEARVIEW EXPRESSWAY   \n",
       "6    POINT (-73.94247 40.68639)                                         \n",
       "\n",
       "             OFF STREET NAME NUMBER OF PERSONS INJURED  \\\n",
       "0  128       THOMPSON STREET                         0   \n",
       "1     2501      KNAPP STREET                         0   \n",
       "4   18        JACKSON STREET                         0   \n",
       "5                                                    0   \n",
       "6    404       MONROE STREET                         0   \n",
       "\n",
       "  NUMBER OF PERSONS KILLED  NUMBER OF PEDESTRIANS INJURED  \\\n",
       "0                        0                              0   \n",
       "1                        0                              0   \n",
       "4                        0                              0   \n",
       "5                        0                              0   \n",
       "6                        0                              0   \n",
       "\n",
       "   NUMBER OF PEDESTRIANS KILLED  NUMBER OF CYCLIST INJURED  \\\n",
       "0                             0                          0   \n",
       "1                             0                          0   \n",
       "4                             0                          0   \n",
       "5                             0                          0   \n",
       "6                             0                          0   \n",
       "\n",
       "   NUMBER OF CYCLIST KILLED  NUMBER OF MOTORIST INJURED  \\\n",
       "0                         0                           0   \n",
       "1                         0                           0   \n",
       "4                         0                           0   \n",
       "5                         0                           0   \n",
       "6                         0                           0   \n",
       "\n",
       "   NUMBER OF MOTORIST KILLED   CONTRIBUTING FACTOR VEHICLE 1  \\\n",
       "0                          0   Failure to Yield Right-of-Way   \n",
       "1                          0                 Drugs (illegal)   \n",
       "4                          0                 Other Vehicular   \n",
       "5                          0  Driver Inattention/Distraction   \n",
       "6                          0                 Other Vehicular   \n",
       "\n",
       "  CONTRIBUTING FACTOR VEHICLE 2 CONTRIBUTING FACTOR VEHICLE 3  \\\n",
       "0                   Unspecified                                 \n",
       "1                   Unspecified                                 \n",
       "4                   Unspecified                                 \n",
       "5                   Unspecified                                 \n",
       "6                   Unspecified                                 \n",
       "\n",
       "  CONTRIBUTING FACTOR VEHICLE 4 CONTRIBUTING FACTOR VEHICLE 5  COLLISION_ID  \\\n",
       "0                                                                   4109787   \n",
       "1                                                                   4122270   \n",
       "4                                                                   4123894   \n",
       "5                                                                   4113041   \n",
       "6                                                                   4107489   \n",
       "\n",
       "  VEHICLE TYPE CODE 1                  VEHICLE TYPE CODE 2  \\\n",
       "0               Sedan                                Sedan   \n",
       "1               Sedan                                Sedan   \n",
       "4               Sedan                                Sedan   \n",
       "5               Sedan  Station Wagon/Sport Utility Vehicle   \n",
       "6               Sedan                                        \n",
       "\n",
       "  VEHICLE TYPE CODE 3 VEHICLE TYPE CODE 4 VEHICLE TYPE CODE 5  \n",
       "0                                                              \n",
       "1                                                              \n",
       "4                                                              \n",
       "5                                                              \n",
       "6                                                              "
      ]
     },
     "execution_count": 4,
     "metadata": {},
     "output_type": "execute_result"
    }
   ],
   "source": [
    "df.info()\n",
    "df.head()"
   ]
  },
  {
   "cell_type": "markdown",
   "metadata": {},
   "source": [
    "## Proportion of different accident\n",
    "Show the percentage of injured and killed person with different transport vehicle"
   ]
  },
  {
   "cell_type": "code",
   "execution_count": 5,
   "metadata": {},
   "outputs": [
    {
     "name": "stdout",
     "output_type": "stream",
     "text": [
      "             INJURED  KILLED\n",
      "PEDESTRIANS    66232     717\n",
      "CYCLIST        26693     104\n",
      "MOTORIST      189410     383\n"
     ]
    },
    {
     "data": {
      "image/png": "[encoded data removed]",
      "text/plain": [
       "<Figure size 864x360 with 2 Axes>"
      ]
     },
     "metadata": {},
     "output_type": "display_data"
    }
   ],
   "source": [
    "SITUATION = ['INJURED', 'KILLED']\n",
    "TRANSPORT = ['PEDESTRIANS', 'CYCLIST', 'MOTORIST']\n",
    "\n",
    "tmp = df[['NUMBER OF {} {}'.format(transport, situation) for transport in TRANSPORT\n",
    "              for situation in SITUATION ]].sum()\n",
    "\n",
    "sum_data = [{situation: tmp.loc['NUMBER OF {} {}'.format(transport, situation)] \n",
    "      for situation in SITUATION} for transport in TRANSPORT]\n",
    "sum_df = pd.DataFrame(sum_data, index= TRANSPORT)\n",
    "print(sum_df)\n",
    "plot = sum_df.plot.pie(subplots=True, figsize=(12, 5))"
   ]
  },
  {
   "cell_type": "markdown",
   "metadata": {},
   "source": [
    "As the pie chart shown, the injured and killed cyclist both occupy the lowest proportion."
   ]
  },
  {
   "cell_type": "markdown",
   "metadata": {},
   "source": [
    "# Bicycle Accident"
   ]
  },
  {
   "cell_type": "markdown",
   "metadata": {},
   "source": [
    "Let's check out the details of bike accident"
   ]
  },
  {
   "cell_type": "code",
   "execution_count": 6,
   "metadata": {},
   "outputs": [],
   "source": [
    "df_cycle = df[(df['NUMBER OF CYCLIST KILLED'] > 0) | (df['NUMBER OF CYCLIST KILLED'] > 0)]"
   ]
  },
  {
   "cell_type": "code",
   "execution_count": 7,
   "metadata": {},
   "outputs": [
    {
     "data": {
      "text/plain": [
       "                                       189.0\n",
       "BICYCLE                                 89.0\n",
       "PASSENGER VEHICLE                       37.0\n",
       "Bike                                    21.0\n",
       "Station Wagon/Sport Utility Vehicle     17.0\n",
       "SPORT UTILITY / STATION WAGON           15.0\n",
       "UNKNOWN                                  9.0\n",
       "LARGE COM VEH(6 OR MORE TIRES)           5.0\n",
       "TAXI                                     4.0\n",
       "VAN                                      3.0\n",
       "BUS                                      2.0\n",
       "Box Truck                                2.0\n",
       "PICK-UP TRUCK                            2.0\n",
       "Sedan                                    2.0\n",
       "Tanker                                   2.0\n",
       "Tractor Truck Diesel                     2.0\n",
       "SMALL COM VEH(4 TIRES)                   1.0\n",
       "LIVERY VEHICLE                           1.0\n",
       "TN                                       1.0\n",
       "FB                                       1.0\n",
       "Dump                                     1.0\n",
       "DS                                       1.0\n",
       "Concrete Mixer                           1.0\n",
       "Taxi                                     1.0\n",
       "Tow Truck / Wrecker                      1.0\n",
       "BU                                       1.0\n",
       "Van                                      1.0\n",
       "dtype: float64"
      ]
     },
     "execution_count": 7,
     "metadata": {},
     "output_type": "execute_result"
    }
   ],
   "source": [
    "type_1 = df_cycle['VEHICLE TYPE CODE 1'].value_counts()\n",
    "type_2 = df_cycle['VEHICLE TYPE CODE 2'].value_counts()\n",
    "type_3 = df_cycle['VEHICLE TYPE CODE 3'].value_counts()\n",
    "type_4 = df_cycle['VEHICLE TYPE CODE 4'].value_counts()\n",
    "\n",
    "type_1 = type_1.add(type_2, fill_value=0)\n",
    "type_1 = type_1.add(type_3, fill_value=0)\n",
    "type_1.add(type_4, fill_value=0).sort_values(ascending=False)"
   ]
  },
  {
   "cell_type": "markdown",
   "metadata": {},
   "source": [
    "The cyclist was most crashed with passenger vehicle, followed by Station Wagon."
   ]
  },
  {
   "cell_type": "markdown",
   "metadata": {},
   "source": [
    "## Distribution of accident location (bike)\n",
    "\n",
    "The more accident happened in the same area, the warmer it will be displayed in the map"
   ]
  },
  {
   "cell_type": "code",
   "execution_count": 8,
   "metadata": {},
   "outputs": [],
   "source": [
    "m = folium.Map(location=[40.7057, -73.9205])"
   ]
  },
  {
   "cell_type": "code",
   "execution_count": 9,
   "metadata": {},
   "outputs": [],
   "source": [
    "from folium.plugins import HeatMap\n",
    "\n",
    "\n",
    "pos_data = []\n",
    "for each in df_cycle.iterrows():\n",
    "    if each[1]['LATITUDE']!=\"\" and each[1]['LONGITUDE']!=\"\":\n",
    "        pos_data.append([each[1]['LATITUDE'],each[1]['LONGITUDE']])\n",
    "mc = HeatMap(pos_data)"
   ]
  },
  {
   "cell_type": "code",
   "execution_count": 10,
   "metadata": {},
   "outputs": [
    {
     "data": {
      "text/html": [
       "<div style=\"width:100%;\"><div style=\"position:relative;width:100%;height:0;padding-bottom:60%;\"><iframe src=\"data:text/html;charset=utf-8;base64,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\" style=\"position:absolute;width:100%;height:100%;left:0;top:0;border:none !important;\" allowfullscreen webkitallowfullscreen mozallowfullscreen></iframe></div></div>"
      ],
      "text/plain": [
       "<folium.folium.Map at 0x7efe41662470>"
      ]
     },
     "metadata": {},
     "output_type": "display_data"
    }
   ],
   "source": [
    "m.add_child(mc)\n",
    "\n",
    "display(m)"
   ]
  },
  {
   "cell_type": "markdown",
   "metadata": {},
   "source": [
    "## Count accident times by borough"
   ]
  },
  {
   "cell_type": "code",
   "execution_count": 11,
   "metadata": {},
   "outputs": [
    {
     "data": {
      "image/png": "[encoded data removed]",
      "text/plain": [
       "<Figure size 720x432 with 1 Axes>"
      ]
     },
     "metadata": {},
     "output_type": "display_data"
    }
   ],
   "source": [
    "plt.figure(figsize=(10, 6))\n",
    "ax = sns.countplot(x= 'BOROUGH',data = df_cycle)"
   ]
  },
  {
   "cell_type": "markdown",
   "metadata": {},
   "source": [
    "The Brooklyn has the most bibe accident, followed by queens and manhattan."
   ]
  },
  {
   "cell_type": "markdown",
   "metadata": {},
   "source": [
    "## Count accident times by year"
   ]
  },
  {
   "cell_type": "code",
   "execution_count": 12,
   "metadata": {},
   "outputs": [],
   "source": [
    "pd.set_option('mode.chained_assignment', None)\n",
    "df_cycle['ACCIDENT DATETIME'] = pd.to_datetime(df_cycle['ACCIDENT DATE'] + ' ' +df_cycle['ACCIDENT TIME'])\n",
    "df_cycle['ACCIDENT TIME'] = pd.to_datetime(df_cycle['ACCIDENT TIME'], format=\"%H:%M\").dt.time\n",
    "df_cycle['ACCIDENT DATE'] = pd.to_datetime(df_cycle['ACCIDENT DATE'], format=\"%m/%d/%Y\")"
   ]
  },
  {
   "cell_type": "code",
   "execution_count": 13,
   "metadata": {},
   "outputs": [
    {
     "data": {
      "image/png": "[encoded data removed]",
      "text/plain": [
       "<Figure size 720x432 with 1 Axes>"
      ]
     },
     "metadata": {},
     "output_type": "display_data"
    }
   ],
   "source": [
    "plt.figure(figsize=(10, 6))\n",
    "ax = sns.countplot(x= df_cycle['ACCIDENT DATE'].dt.year, data = df_cycle, palette=sns.xkcd_palette(['windows blue']))"
   ]
  },
  {
   "cell_type": "markdown",
   "metadata": {},
   "source": [
    "## Count injured or killed cyclist by time"
   ]
  },
  {
   "cell_type": "code",
   "execution_count": 14,
   "metadata": {},
   "outputs": [
    {
     "data": {
      "image/png": "[encoded data removed]",
      "text/plain": [
       "<Figure size 720x432 with 1 Axes>"
      ]
     },
     "metadata": {},
     "output_type": "display_data"
    }
   ],
   "source": [
    "df_cycle['NUMBER OF CYCLIST'] = df_cycle[\"NUMBER OF CYCLIST INJURED\"] + df_cycle[\"NUMBER OF CYCLIST KILLED\"]\n",
    "plt.figure(figsize=(10, 6))\n",
    "ax = sns.lineplot(x='ACCIDENT TIME',y= 'NUMBER OF CYCLIST', data=df_cycle)"
   ]
  },
  {
   "cell_type": "markdown",
   "metadata": {},
   "source": [
    "Most cycle accident happped in the noon and afternoon, shown in the graph."
   ]
  }
 ],
 "metadata": {
  "kernelspec": {
   "display_name": "Python 3",
   "language": "python",
   "name": "python3"
  },
  "language_info": {
   "codemirror_mode": {
    "name": "ipython",
    "version": 3
   },
   "file_extension": ".py",
   "mimetype": "text/x-python",
   "name": "python",
   "nbconvert_exporter": "python",
   "pygments_lexer": "ipython3",
   "version": "3.5.2"
  }
 },
 "nbformat": 4,
 "nbformat_minor": 2
}
